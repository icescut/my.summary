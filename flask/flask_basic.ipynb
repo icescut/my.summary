{
 "cells": [
  {
   "cell_type": "markdown",
   "metadata": {},
   "source": [
    "# Flask\n",
    "Flask是一个基于Python的小型的web框架。具有一个包含基本服务的强健核心，其他功能可以通过扩展实现。  \n",
    "Flask主要依赖于Werkzeug和Jinjia2。"
   ]
  },
  {
   "cell_type": "markdown",
   "metadata": {},
   "source": [
    "## 安装\n",
    "通过`pip install flask`就可以安装Flask，当然最好是结合`virtualenv`使用。  "
   ]
  },
  {
   "cell_type": "markdown",
   "metadata": {},
   "source": [
    "## 基本结构"
   ]
  },
  {
   "cell_type": "code",
   "execution_count": null,
   "metadata": {},
   "outputs": [
    {
     "name": "stderr",
     "output_type": "stream",
     "text": [
      " * Running on http://127.0.0.1:5000/ (Press CTRL+C to quit)\n",
      "127.0.0.1 - - [10/Feb/2018 16:55:21] \"GET / HTTP/1.1\" 200 -\n",
      "127.0.0.1 - - [10/Feb/2018 16:55:21] \"GET /favicon.ico HTTP/1.1\" 404 -\n"
     ]
    }
   ],
   "source": [
    "from flask import Flask\n",
    "\n",
    "app = Flask(__name__)\n",
    "\n",
    "@app.route('/')\n",
    "def hello_world():\n",
    "    return 'Hello World'\n",
    "\n",
    "if __name__ == '__main__':\n",
    "    app.run()"
   ]
  },
  {
   "cell_type": "markdown",
   "metadata": {},
   "source": [
    "以上便是一个完整的Flask应用。  \n",
    "1. 首先使用`from flask import Flask`导入Flask。  \n",
    "2. 使用`app = Flask(__name__)`创建一个应用对象。`__name__`用于初始化位置。  \n",
    "3. 使用`@app.route`装饰器实现路由，路由就是URL与函数之间的映射关系，这里`hello_world`称为视图函数。函数的返回值称为响应。  \n",
    "4. 使用`app.run()`启动WEB服务器。  \n",
    "\n",
    "该服务器默认启动在http://127.0.0.1:5000/"
   ]
  },
  {
   "cell_type": "code",
   "execution_count": null,
   "metadata": {
    "collapsed": true
   },
   "outputs": [],
   "source": []
  }
 ],
 "metadata": {
  "kernelspec": {
   "display_name": "Python 3",
   "language": "python",
   "name": "python3"
  },
  "language_info": {
   "codemirror_mode": {
    "name": "ipython",
    "version": 3
   },
   "file_extension": ".py",
   "mimetype": "text/x-python",
   "name": "python",
   "nbconvert_exporter": "python",
   "pygments_lexer": "ipython3",
   "version": "3.6.3"
  }
 },
 "nbformat": 4,
 "nbformat_minor": 2
}
