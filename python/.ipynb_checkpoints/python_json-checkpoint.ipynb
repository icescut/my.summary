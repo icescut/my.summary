{
 "cells": [
  {
   "cell_type": "markdown",
   "metadata": {},
   "source": [
    "# Python json"
   ]
  },
  {
   "cell_type": "markdown",
   "metadata": {},
   "source": [
    "json是JavaScript Object Notation的简写，是一种轻量级的数据交换格式。  \n",
    "JSON建构于两种结构：\n",
    "\n",
    "* “名称/值”对的集合。\n",
    "* 值的有序列表（An ordered list of values）。\n",
    "\n",
    "Python内置了json模块用于将python对象转换为json字符串和将json字符串转换为python对象。 "
   ]
  },
  {
   "cell_type": "markdown",
   "metadata": {},
   "source": [
    "## python对象转换为json字符串"
   ]
  },
  {
   "cell_type": "markdown",
   "metadata": {},
   "source": [
    "使用json模块提供的dump或dumps函数将python对象转换为json字符串。  \n",
    "\n",
    "语法：json.dump(obj, fp, *, skipkeys=False, ensure_ascii=True, check_circular=True, allow_nan=True, cls=None, indent=None, separators=None, default=None, sort_keys=False, **kw)。  \n",
    "\n",
    "dumps和dump的参数类似，只不过dumps是将对象转换为json字符串，而dump则将转换后的json字符串直接写入传给的文件中。  \n",
    "转换规则：\n",
    "\n",
    "| Python | JSON |\n",
    "|:-------|:-----|\n",
    "| dict | object |\n",
    "| list, tuple | array |\n",
    "| str | string |\n",
    "| int, float, int- & float-derived Enums | number |\n",
    "| True | true |\n",
    "| False | false |\n",
    "| None | null |"
   ]
  },
  {
   "cell_type": "code",
   "execution_count": 2,
   "metadata": {},
   "outputs": [
    {
     "data": {
      "text/plain": [
       "'[\"foo\", {\"bar\": [\"baz\", null, 1.0, 2]}]'"
      ]
     },
     "execution_count": 2,
     "metadata": {},
     "output_type": "execute_result"
    }
   ],
   "source": [
    "import json\n",
    "json.dumps(['foo', {'bar': ('baz', None, 1.0, 2)}])"
   ]
  },
  {
   "cell_type": "markdown",
   "metadata": {},
   "source": [
    "### skipkeys\n",
    "默认为False，如果字典的key不是str, int, float, bool, None之一，将报TypeError。如果skipkeys=True，则不会报错，而是跳过解释该键值对。"
   ]
  },
  {
   "cell_type": "markdown",
   "metadata": {},
   "source": [
    "不加skipkeys参数："
   ]
  },
  {
   "cell_type": "code",
   "execution_count": 4,
   "metadata": {},
   "outputs": [
    {
     "name": "stdout",
     "output_type": "stream",
     "text": [
      "keys must be a string\n"
     ]
    }
   ],
   "source": [
    "class A():\n",
    "    pass\n",
    "\n",
    "try:\n",
    "    json.dumps({1: \"a\", A(): \"b\"})\n",
    "except TypeError as e:\n",
    "    print(e)"
   ]
  },
  {
   "cell_type": "markdown",
   "metadata": {},
   "source": [
    "添加skipkeys参数:"
   ]
  },
  {
   "cell_type": "code",
   "execution_count": 5,
   "metadata": {},
   "outputs": [
    {
     "data": {
      "text/plain": [
       "'{\"1\": \"a\"}'"
      ]
     },
     "execution_count": 5,
     "metadata": {},
     "output_type": "execute_result"
    }
   ],
   "source": [
    "json.dumps({1: \"a\", A(): \"b\"}, skipkeys=True)"
   ]
  },
  {
   "cell_type": "markdown",
   "metadata": {},
   "source": [
    "### allow_nan\n",
    "默认为True，能够将float('nan')转换为NaN，float('inf')转换为Infinity，float('-inf')转换为-Infinity。"
   ]
  },
  {
   "cell_type": "code",
   "execution_count": 6,
   "metadata": {},
   "outputs": [
    {
     "data": {
      "text/plain": [
       "'{\"a\": NaN, \"b\": Infinity, \"c\": -Infinity}'"
      ]
     },
     "execution_count": 6,
     "metadata": {},
     "output_type": "execute_result"
    }
   ],
   "source": [
    "json.dumps({\"a\": float('nan'), \"b\": float('inf'), \"c\": float(\"-inf\")})"
   ]
  },
  {
   "cell_type": "markdown",
   "metadata": {},
   "source": [
    "如果设置allow_nan为False，则遇到上面三种情况会抛出ValueError。毕竟这三种情况并不是太标准的json值。"
   ]
  },
  {
   "cell_type": "code",
   "execution_count": 7,
   "metadata": {},
   "outputs": [
    {
     "name": "stdout",
     "output_type": "stream",
     "text": [
      "Out of range float values are not JSON compliant\n"
     ]
    }
   ],
   "source": [
    "try:\n",
    "    json.dumps({\"a\": float('nan'), \"b\": float('inf'), \"c\": float(\"-inf\")}, allow_nan=False)\n",
    "except ValueError as e:\n",
    "    print(e)"
   ]
  },
  {
   "cell_type": "markdown",
   "metadata": {},
   "source": [
    "### indent\n",
    "设置缩进，一般只为了测试时好看，传送数据在乎的是尽量减少大小。"
   ]
  },
  {
   "cell_type": "code",
   "execution_count": 12,
   "metadata": {},
   "outputs": [
    {
     "name": "stdout",
     "output_type": "stream",
     "text": [
      "[\n",
      "    \"foo\",\n",
      "    {\n",
      "        \"bar\": [\n",
      "            \"baz\",\n",
      "            null,\n",
      "            1.0,\n",
      "            2\n",
      "        ]\n",
      "    }\n",
      "]\n"
     ]
    }
   ],
   "source": [
    "print(json.dumps(['foo', {'bar': ('baz', None, 1.0, 2)}], indent=4))"
   ]
  },
  {
   "cell_type": "markdown",
   "metadata": {},
   "source": [
    "### separators\n",
    "separators的值为一个两个元素的元组：(item_separator, key_separator)，分别是项和键值之间的分隔符，默认为(\",\", \": \")，注意:后面有一个空格，如果为了尽量缩小字符串的大小，可以设置为(\",\", \":\")。"
   ]
  },
  {
   "cell_type": "code",
   "execution_count": 8,
   "metadata": {},
   "outputs": [
    {
     "name": "stdout",
     "output_type": "stream",
     "text": [
      "[\"foo\", {\"bar\": [\"baz\", null, 1.0, 2]}]\n"
     ]
    }
   ],
   "source": [
    "print(json.dumps(['foo', {'bar': ('baz', None, 1.0, 2)}]))"
   ]
  },
  {
   "cell_type": "code",
   "execution_count": 9,
   "metadata": {},
   "outputs": [
    {
     "name": "stdout",
     "output_type": "stream",
     "text": [
      "[\"foo\",{\"bar\":[\"baz\",null,1.0,2]}]\n"
     ]
    }
   ],
   "source": [
    "print(json.dumps(['foo', {'bar': ('baz', None, 1.0, 2)}], separators=(\",\", \":\")))"
   ]
  },
  {
   "cell_type": "markdown",
   "metadata": {},
   "source": [
    "### sort_keys\n",
    "是否按字典的key排序，默认是False。"
   ]
  },
  {
   "cell_type": "markdown",
   "metadata": {},
   "source": [
    "默认是无序的："
   ]
  },
  {
   "cell_type": "code",
   "execution_count": 10,
   "metadata": {},
   "outputs": [
    {
     "name": "stdout",
     "output_type": "stream",
     "text": [
      "{\"c\": 20, \"a\": 50, \"b\": 70}\n"
     ]
    }
   ],
   "source": [
    "print(json.dumps({\"c\": 20, \"a\": 50, \"b\": 70}))"
   ]
  },
  {
   "cell_type": "markdown",
   "metadata": {},
   "source": [
    "设置为有序："
   ]
  },
  {
   "cell_type": "code",
   "execution_count": 11,
   "metadata": {},
   "outputs": [
    {
     "name": "stdout",
     "output_type": "stream",
     "text": [
      "{\"a\": 50, \"b\": 70, \"c\": 20}\n"
     ]
    }
   ],
   "source": [
    "print(json.dumps({\"c\": 20, \"a\": 50, \"b\": 70},sort_keys=True))"
   ]
  },
  {
   "cell_type": "markdown",
   "metadata": {},
   "source": [
    "## json字符串转换为python对象"
   ]
  },
  {
   "cell_type": "markdown",
   "metadata": {},
   "source": [
    "使用json模块提供的load或loads函数将json字符串转换为python对象。  \n",
    "\n",
    "语法：json.load(fp, *, cls=None, object_hook=None, parse_float=None, parse_int=None, parse_constant=None, object_pairs_hook=None, **kw)。  \n",
    "\n",
    "loads和load的参数类似，只不过loads是将json字符串转换为对象，而load则直接读取传给的文件中的内容转换为对象。  \n",
    "转换规则：\n",
    "\n",
    "| JSON | Python |\n",
    "|:-----|:-------|\n",
    "|object | dict |\n",
    "|array | list |\n",
    "|string | str |\n",
    "|number (int) |\tint |\n",
    "|number (real) | float |\n",
    "|true |\tTrue |\n",
    "|false | False |\n",
    "|null |\tNone |"
   ]
  },
  {
   "cell_type": "code",
   "execution_count": 12,
   "metadata": {},
   "outputs": [
    {
     "name": "stdout",
     "output_type": "stream",
     "text": [
      "<class 'list'>\n"
     ]
    }
   ],
   "source": [
    "text = '[\"foo\", {\"bar\": [\"baz\", null, 1.0, 2]}]'\n",
    "lst = json.loads(text)\n",
    "print(type(lst))"
   ]
  },
  {
   "cell_type": "code",
   "execution_count": 13,
   "metadata": {},
   "outputs": [
    {
     "name": "stdout",
     "output_type": "stream",
     "text": [
      "['baz', None, 1.0, 2]\n"
     ]
    }
   ],
   "source": [
    "print(lst[1][\"bar\"])"
   ]
  },
  {
   "cell_type": "markdown",
   "metadata": {},
   "source": [
    "### parse_float\n",
    "接受一个函数，对json中的浮点值进行加工。默认为float(num_str)，将json字符串中的浮点数字符串强制转换为浮点数。所以这个参数是作为是以原始浮点数字符串为输入，进行特殊处理后返回处理结果。"
   ]
  },
  {
   "cell_type": "code",
   "execution_count": 15,
   "metadata": {},
   "outputs": [
    {
     "data": {
      "text/plain": [
       "{'a': 11.2}"
      ]
     },
     "execution_count": 15,
     "metadata": {},
     "output_type": "execute_result"
    }
   ],
   "source": [
    "text = '{\"a\": 1.2}'\n",
    "d = json.loads(text, parse_float=lambda x: float(x) + 10)\n",
    "d"
   ]
  },
  {
   "cell_type": "markdown",
   "metadata": {},
   "source": [
    "### parse_int\n",
    "类似parse_float"
   ]
  },
  {
   "cell_type": "code",
   "execution_count": 18,
   "metadata": {},
   "outputs": [
    {
     "data": {
      "text/plain": [
       "{'a': 15}"
      ]
     },
     "execution_count": 18,
     "metadata": {},
     "output_type": "execute_result"
    }
   ],
   "source": [
    "text = '{\"a\": 5}'\n",
    "d = json.loads(text, parse_int=lambda x: int(x) + 10)\n",
    "d"
   ]
  },
  {
   "cell_type": "markdown",
   "metadata": {},
   "source": [
    "## 个性化转换"
   ]
  },
  {
   "cell_type": "markdown",
   "metadata": {},
   "source": [
    "###  转换对象\n",
    "默认json模块是不知道如何转换对象到json字符串的，但你可以告诉json如何转换。有两种方法。"
   ]
  },
  {
   "cell_type": "markdown",
   "metadata": {},
   "source": [
    "第一种方法："
   ]
  },
  {
   "cell_type": "code",
   "execution_count": 26,
   "metadata": {},
   "outputs": [
    {
     "data": {
      "text/plain": [
       "'[1.2, \"hello\", {\"aa\": \"bbb\"}, 100]'"
      ]
     },
     "execution_count": 26,
     "metadata": {},
     "output_type": "execute_result"
    }
   ],
   "source": [
    "class Person:\n",
    "    def __init__(self, name, age):\n",
    "        self.name = name\n",
    "        self.age = age\n",
    "\n",
    "def object2dict(obj):\n",
    "    d = {}\n",
    "    if obj.__class__ == Person:\n",
    "        d['name'] = obj.name\n",
    "        d['age'] = obj.age\n",
    "    return d\n",
    "\n",
    "json.dumps([1.2, \"hello\", {\"aa\": \"bbb\"}, Person('Alan', 32)], default=object2dict)"
   ]
  },
  {
   "cell_type": "markdown",
   "metadata": {},
   "source": [
    "1. 给`json.dumps`或`json.dump`方法的default参数赋值一个函数\n",
    "2. 该函数用于处理非一般的对象，返回一般对象（数值、字符串、字典、列表、true、false、null）。"
   ]
  },
  {
   "cell_type": "markdown",
   "metadata": {},
   "source": [
    "第二种方法：\n",
    "\n",
    "1. 编写自己的Encoder继承json.JSONEncoder。\n",
    "2. 覆盖default方法。\n",
    "3. 创建自己的Encoder对象，调用encode方法将对象转换为json字符串。"
   ]
  },
  {
   "cell_type": "code",
   "execution_count": 41,
   "metadata": {},
   "outputs": [
    {
     "data": {
      "text/plain": [
       "'[1.2, \"hello\", {\"aa\": \"bbb\"}, {\"name\": \"Alan\", \"age\": 32}]'"
      ]
     },
     "execution_count": 41,
     "metadata": {},
     "output_type": "execute_result"
    }
   ],
   "source": [
    "class MyEncoder(json.JSONEncoder):\n",
    "    def default(self, obj):\n",
    "        d = {}\n",
    "        if obj.__class__ == Person:\n",
    "            d['name'] = obj.name\n",
    "            d['age'] = obj.age\n",
    "        return d\n",
    "\n",
    "MyEncoder().encode([1.2, \"hello\", {\"aa\": \"bbb\"}, Person('Alan', 32)])"
   ]
  },
  {
   "cell_type": "markdown",
   "metadata": {},
   "source": [
    "\n",
    "\n",
    "### 转换字符串\n",
    "默认json模块是将json对象转换python字典的，但你可以告诉json将json对象转换为python的特定对象。有两种方法。"
   ]
  },
  {
   "cell_type": "markdown",
   "metadata": {},
   "source": [
    "第一种方法："
   ]
  },
  {
   "cell_type": "code",
   "execution_count": 35,
   "metadata": {},
   "outputs": [
    {
     "data": {
      "text/plain": [
       "[1.2, {'aa': 'bb'}, (5+4j)]"
      ]
     },
     "execution_count": 35,
     "metadata": {},
     "output_type": "execute_result"
    }
   ],
   "source": [
    "def obj2complex(d):\n",
    "    if '__complex__' in d:\n",
    "        return complex(d['real'], d['imag'])\n",
    "    return d # 如果只是普通的字典，一定要写上这局，因为是对所有字典操作\n",
    "\n",
    "json.loads('[1.2, {\"aa\": \"bb\"}, {\"real\": 5, \"imag\": 4, \"__complex__\": true}]', object_hook=obj2complex)"
   ]
  },
  {
   "cell_type": "markdown",
   "metadata": {},
   "source": [
    "1. 给`json.load`或`json.loads`方法的object_hook参数赋值一个函数\n",
    "2. 该函数用于处理json字符串中的对象进行定制处理"
   ]
  },
  {
   "cell_type": "markdown",
   "metadata": {},
   "source": [
    "第二种方法：\n",
    "\n",
    "1. 编写自己的Decoder继承json.JSONDecoder。\n",
    "2. 将转换函数移到自己的Decoder中，在初始化的时候，指定object_hook\n",
    "3. 创建自己的Decoder对象，调用decode方法将json对象转换为python对象。"
   ]
  },
  {
   "cell_type": "code",
   "execution_count": 44,
   "metadata": {},
   "outputs": [
    {
     "data": {
      "text/plain": [
       "[1.2, {'aa': 'bb'}, (5+4j)]"
      ]
     },
     "execution_count": 44,
     "metadata": {},
     "output_type": "execute_result"
    }
   ],
   "source": [
    "class MyDecoder(json.JSONDecoder):\n",
    "    def __init__(self):\n",
    "        json.JSONDecoder.__init__(self,object_hook=self.obj2complex)\n",
    "    def obj2complex(self, d):\n",
    "        if '__complex__' in d:\n",
    "            return complex(d['real'], d['imag'])\n",
    "        return d\n",
    "    \n",
    "MyDecoder().decode('[1.2, {\"aa\": \"bb\"}, {\"real\": 5, \"imag\": 4, \"__complex__\": true}]')"
   ]
  },
  {
   "cell_type": "code",
   "execution_count": null,
   "metadata": {
    "collapsed": true
   },
   "outputs": [],
   "source": []
  }
 ],
 "metadata": {
  "kernelspec": {
   "display_name": "Python 3",
   "language": "python",
   "name": "python3"
  },
  "language_info": {
   "codemirror_mode": {
    "name": "ipython",
    "version": 3
   },
   "file_extension": ".py",
   "mimetype": "text/x-python",
   "name": "python",
   "nbconvert_exporter": "python",
   "pygments_lexer": "ipython3",
   "version": "3.6.3"
  }
 },
 "nbformat": 4,
 "nbformat_minor": 2
}
