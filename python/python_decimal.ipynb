{
 "cells": [
  {
   "cell_type": "markdown",
   "metadata": {},
   "source": [
    "# decimal"
   ]
  },
  {
   "cell_type": "markdown",
   "metadata": {},
   "source": [
    "decimal 模块实现了定点和浮点算术运算符，使用的是大多数人所熟悉的模型，而不是程序员熟悉的模型，即大多数计算机硬件实现的 IEEE 浮点数运算。Decimal 实例可以准确地表示任何数，对其上取整或下取整，还可以对有效数字个数加以限制。\n",
    "\n",
    "参考：\n",
    "* [[Python标准库]decimal——定点数和浮点数的数学运算 - CSDN博客](https://blog.csdn.net/kebu12345678/article/details/54845908)"
   ]
  },
  {
   "cell_type": "markdown",
   "metadata": {},
   "source": [
    "优点：\n",
    "1. 符合人类思维，计算结果就如学校所教。\n",
    "2. 精确表现，比如Decimal('0.1')就是代表0.1，但浮点数0.1实际不一样是准确的0.1。\n",
    "3. 计算结果是精确的，正因为第2点，所以计算结果也是精确的。\n",
    "4. 小数位是明确定义的，所以可以用于金融领域。\n",
    "5. 精度可变。\n",
    "6. 对舍入和计算的例外信息是完全可控的。"
   ]
  },
  {
   "cell_type": "markdown",
   "metadata": {},
   "source": [
    "三大核心概念：\n",
    "1. 十进制\n",
    "2. 上下文\n",
    "3. 信号"
   ]
  },
  {
   "cell_type": "markdown",
   "metadata": {},
   "source": [
    "一个Decimal是不可变的，其由三部分组成：符号、系数、指数。例如`-3.14e3`，符号为`-`，系数为`3.14`，指数为`3`。\n",
    "包括特殊值`Infinity`、`-Infinity`、`NaN`，另外`0`和`-0`是不相等的。"
   ]
  },
  {
   "cell_type": "markdown",
   "metadata": {},
   "source": [
    "## Decimal对象\n",
    "\n",
    "可以通过整数、字符串或者元组构建decimal.Decimal，对于浮点数需要先将其转换为字符串，因为浮点数是不精确的。"
   ]
  },
  {
   "cell_type": "code",
   "execution_count": 2,
   "metadata": {},
   "outputs": [
    {
     "name": "stdout",
     "output_type": "stream",
     "text": [
      "5\n"
     ]
    }
   ],
   "source": [
    "from decimal import *\n",
    "print(Decimal(5))"
   ]
  },
  {
   "cell_type": "code",
   "execution_count": 3,
   "metadata": {},
   "outputs": [
    {
     "name": "stdout",
     "output_type": "stream",
     "text": [
      "3.14\n"
     ]
    }
   ],
   "source": [
    "print(Decimal('3.14'))"
   ]
  },
  {
   "cell_type": "code",
   "execution_count": 4,
   "metadata": {},
   "outputs": [
    {
     "name": "stdout",
     "output_type": "stream",
     "text": [
      "3.14\n"
     ]
    }
   ],
   "source": [
    "print(Decimal((0, (3, 1, 4), -2)))"
   ]
  },
  {
   "cell_type": "markdown",
   "metadata": {},
   "source": [
    "使用元组方式创建Decimal，元组中元素的含义：\n",
    "1. 第一个元素为符号，0代表正数，1代表负数。\n",
    "2. 第二个元素为一个元组，表示系数，其中元素值为个位整数，比如`(3, 1, 4)`相当为`314`。\n",
    "3. 第三个元素为指数。"
   ]
  },
  {
   "cell_type": "markdown",
   "metadata": {},
   "source": [
    "## 上下文\n",
    "使用getcontext()得到当前上下文，并在必要时设置精度，舍入等。"
   ]
  },
  {
   "cell_type": "markdown",
   "metadata": {},
   "source": [
    "上下文对象：\n",
    "```python\n",
    "Context(prec=28,\n",
    "rounding=ROUND_HALF_EVEN,\n",
    "Emin=-999999,\n",
    "Emax=999999,\n",
    "capitals=1,\n",
    "clamps=0,\n",
    "flags=[],\n",
    "traps=[Overflow, DivisionByZero, InvalidOperation]\n",
    "```"
   ]
  },
  {
   "cell_type": "markdown",
   "metadata": {},
   "source": [
    "* prec表示精度\n",
    "    注意这个精度是针对计算结果。"
   ]
  },
  {
   "cell_type": "code",
   "execution_count": 9,
   "metadata": {},
   "outputs": [
    {
     "data": {
      "text/plain": [
       "Context(prec=28, rounding=ROUND_HALF_EVEN, Emin=-999999, Emax=999999, capitals=1, clamp=0, flags=[], traps=[InvalidOperation, DivisionByZero, Overflow])"
      ]
     },
     "execution_count": 9,
     "metadata": {},
     "output_type": "execute_result"
    }
   ],
   "source": [
    "getcontext()"
   ]
  },
  {
   "cell_type": "code",
   "execution_count": null,
   "metadata": {
    "collapsed": true
   },
   "outputs": [],
   "source": []
  }
 ],
 "metadata": {
  "kernelspec": {
   "display_name": "Python 3",
   "language": "python",
   "name": "python3"
  },
  "language_info": {
   "codemirror_mode": {
    "name": "ipython",
    "version": 3
   },
   "file_extension": ".py",
   "mimetype": "text/x-python",
   "name": "python",
   "nbconvert_exporter": "python",
   "pygments_lexer": "ipython3",
   "version": "3.6.3"
  }
 },
 "nbformat": 4,
 "nbformat_minor": 2
}
