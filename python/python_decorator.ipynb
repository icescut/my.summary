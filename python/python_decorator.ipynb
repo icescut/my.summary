{
 "cells": [
  {
   "cell_type": "markdown",
   "metadata": {},
   "source": [
    "# Python装饰器"
   ]
  },
  {
   "cell_type": "markdown",
   "metadata": {},
   "source": [
    "装饰器本质上是一个 Python 函数或类，它可以让其他函数或类在不需要做任何代码修改的前提下增加额外功能，装饰器的返回值也是一个函数/类对象。它经常用于有切面需求的场景，比如：插入日志、性能测试、事务处理、缓存、权限校验等场景，装饰器是解决这类问题的绝佳设计。有了装饰器，我们就可以抽离出大量与函数功能本身无关的雷同代码到装饰器中并继续重用。概括的讲，装饰器的作用就是为已经存在的对象添加额外的功能。"
   ]
  },
  {
   "cell_type": "markdown",
   "metadata": {},
   "source": [
    "## 参考\n",
    "* [Python装饰器学习（九步入门）](http://www.cnblogs.com/rhcad/archive/2011/12/21/2295507.html)\n",
    "* [Python 装饰器 - 伯乐在线](http://python.jobbole.com/82344/)\n",
    "* [理解 Python 装饰器看这一篇就够了](https://foofish.net/python-decorator.html)\n",
    "* [Python中的各种装饰器详解](http://www.jb51.net/article/63892.htm)"
   ]
  },
  {
   "cell_type": "markdown",
   "metadata": {},
   "source": [
    "## 函数式装饰器\n",
    "以对函数实现函数增加计数执行时间功能为例子。"
   ]
  },
  {
   "cell_type": "markdown",
   "metadata": {},
   "source": [
    "### 装饰函数\n",
    "\n",
    "错误的示范："
   ]
  },
  {
   "cell_type": "code",
   "execution_count": 7,
   "metadata": {},
   "outputs": [
    {
     "name": "stdout",
     "output_type": "stream",
     "text": [
      "myfunc is start...\n",
      "myfunc is ended with 609.466314ms\n"
     ]
    }
   ],
   "source": [
    "import time\n",
    "def deco(func):\n",
    "    print(\"%s is start...\" % func.__name__)\n",
    "    start_time = time.time()\n",
    "    func()\n",
    "    end_time = time.time()\n",
    "    delta = (end_time - start_time) * 1000\n",
    "    print(\"%s is ended with %fms\" % (func.__name__, delta))\n",
    "    return func\n",
    "\n",
    "@deco\n",
    "def myfunc():\n",
    "    time.sleep(0.6)\n",
    "\n",
    "myfunc()\n",
    "myfunc()"
   ]
  },
  {
   "cell_type": "markdown",
   "metadata": {},
   "source": [
    "装饰的内容只被调用了一次。由此可以判断：\n",
    "1. 装饰函数（即上面的deco），只在第一次调用被装饰函数（myfunc()）时执行一次\n",
    "2. 由于装饰函数返回的还是func，所以第二次调用的还是func，并没有附加内容。\n",
    "\n",
    "正确的做法是返回包装之后的函数，而不是被装饰函数本身："
   ]
  },
  {
   "cell_type": "code",
   "execution_count": 9,
   "metadata": {},
   "outputs": [
    {
     "name": "stdout",
     "output_type": "stream",
     "text": [
      "myfunc is start...\n",
      "myfunc is ended with 609.981060ms\n",
      "myfunc is start...\n",
      "myfunc is ended with 604.786396ms\n"
     ]
    }
   ],
   "source": [
    "def deco(func):\n",
    "    def _deco():\n",
    "        print(\"%s is start...\" % func.__name__)\n",
    "        start_time = time.time()\n",
    "        func()\n",
    "        end_time = time.time()\n",
    "        delta = (end_time - start_time) * 1000\n",
    "        print(\"%s is ended with %fms\" % (func.__name__, delta))\n",
    "        \n",
    "    return _deco\n",
    "\n",
    "@deco\n",
    "def myfunc():\n",
    "    time.sleep(0.6)\n",
    "\n",
    "myfunc()\n",
    "myfunc()"
   ]
  },
  {
   "cell_type": "markdown",
   "metadata": {},
   "source": [
    "总结：\n",
    "1. 装饰器本身是一个函数。\n",
    "2. 以被装饰的函数为输入参数。\n",
    "3. 返回被包装之后的函数。\n",
    "\n",
    "上例实际上等价于下面的实现，装饰器用法其实是语法糖："
   ]
  },
  {
   "cell_type": "code",
   "execution_count": 10,
   "metadata": {},
   "outputs": [
    {
     "name": "stdout",
     "output_type": "stream",
     "text": [
      "myfunc is start...\n",
      "myfunc is ended with 613.054991ms\n",
      "myfunc is start...\n",
      "myfunc is ended with 608.532429ms\n"
     ]
    }
   ],
   "source": [
    "def deco(func):\n",
    "    def _deco():\n",
    "        print(\"%s is start...\" % func.__name__)\n",
    "        start_time = time.time()\n",
    "        func()\n",
    "        end_time = time.time()\n",
    "        delta = (end_time - start_time) * 1000\n",
    "        print(\"%s is ended with %fms\" % (func.__name__, delta))\n",
    "        \n",
    "    return _deco\n",
    "\n",
    "# 注意这时没有用@\n",
    "def myfunc():\n",
    "    time.sleep(0.6)\n",
    "\n",
    "deco(myfunc)()\n",
    "deco(myfunc)()"
   ]
  },
  {
   "cell_type": "markdown",
   "metadata": {},
   "source": [
    "### 装饰有参数的函数\n",
    "有时被装饰函数是有参数的，这时应该在包装函数（即_deco）中接收相应的参数，因为包装函数实际上替代了被装饰的函数。"
   ]
  },
  {
   "cell_type": "code",
   "execution_count": 11,
   "metadata": {},
   "outputs": [
    {
     "name": "stdout",
     "output_type": "stream",
     "text": [
      "myfunc is start...\n",
      "myfunc is ended with 600.679636ms\n",
      "4\n",
      "myfunc is start...\n",
      "myfunc is ended with 605.173111ms\n",
      "8\n"
     ]
    }
   ],
   "source": [
    "def deco(func):\n",
    "    def _deco(a, b):\n",
    "        print(\"%s is start...\" % func.__name__)\n",
    "        start_time = time.time()\n",
    "        result = func(a, b)\n",
    "        end_time = time.time()\n",
    "        delta = (end_time - start_time) * 1000\n",
    "        print(\"%s is ended with %fms\" % (func.__name__, delta))\n",
    "        return result\n",
    "        \n",
    "    return _deco\n",
    "\n",
    "@deco\n",
    "def myfunc(a, b):\n",
    "    time.sleep(0.6)\n",
    "    return a + b\n",
    "\n",
    "print(myfunc(1, 3))\n",
    "print(myfunc(6, 2))"
   ]
  },
  {
   "cell_type": "markdown",
   "metadata": {},
   "source": [
    "实际上可以当作是参数不定情况，统一使用解包进行接收："
   ]
  },
  {
   "cell_type": "code",
   "execution_count": 12,
   "metadata": {},
   "outputs": [
    {
     "name": "stdout",
     "output_type": "stream",
     "text": [
      "myfunc is start...\n",
      "myfunc is ended with 611.173391ms\n",
      "4\n",
      "myfunc is start...\n",
      "myfunc is ended with 601.498842ms\n",
      "8\n"
     ]
    }
   ],
   "source": [
    "def deco(func):\n",
    "    def _deco(*args, **kwargs):\n",
    "        print(\"%s is start...\" % func.__name__)\n",
    "        start_time = time.time()\n",
    "        result = func(*args, **kwargs)\n",
    "        end_time = time.time()\n",
    "        delta = (end_time - start_time) * 1000\n",
    "        print(\"%s is ended with %fms\" % (func.__name__, delta))\n",
    "        return result\n",
    "        \n",
    "    return _deco\n",
    "\n",
    "@deco\n",
    "def myfunc(a, b):\n",
    "    time.sleep(0.6)\n",
    "    return a + b\n",
    "\n",
    "print(myfunc(1, 3))\n",
    "print(myfunc(6, 2))"
   ]
  },
  {
   "cell_type": "markdown",
   "metadata": {},
   "source": [
    "等同于调用了`deco(func)(1, 3)`和`deco(func)(6, 2)`"
   ]
  },
  {
   "cell_type": "markdown",
   "metadata": {},
   "source": [
    "### 装饰器带参数\n",
    "有时装饰器可以传入参数进行更细致的控制。比如通过参数控制是否进行计算执行时间："
   ]
  },
  {
   "cell_type": "code",
   "execution_count": 17,
   "metadata": {},
   "outputs": [
    {
     "name": "stdout",
     "output_type": "stream",
     "text": [
      "myfunc is start...\n",
      "myfunc is ended with 602.722168ms\n",
      "4\n",
      "8\n"
     ]
    }
   ],
   "source": [
    "def deco(time_it=True):\n",
    "    if time_it:\n",
    "        def _deco(func):\n",
    "            def __deco(*args, **kwargs):\n",
    "                print(\"%s is start...\" % func.__name__)\n",
    "                start_time = time.time()\n",
    "                result = func(*args, **kwargs)\n",
    "                end_time = time.time()\n",
    "                delta = (end_time - start_time) * 1000\n",
    "                print(\"%s is ended with %fms\" % (func.__name__, delta))\n",
    "                return result\n",
    "            return __deco\n",
    "        return _deco\n",
    "    else:\n",
    "        def _deco(func):\n",
    "            def __deco(*args, **kwargs):\n",
    "                return func(*args, **kwargs)\n",
    "            return __deco\n",
    "        return _deco\n",
    "\n",
    "@deco(True)\n",
    "def myfunc(a, b):\n",
    "    time.sleep(0.6)\n",
    "    return a + b\n",
    "\n",
    "@deco(False)\n",
    "def myfunc2(a, b):\n",
    "    time.sleep(0.6)\n",
    "    return a + b\n",
    "\n",
    "print(myfunc(1, 3))\n",
    "print(myfunc2(6, 2))"
   ]
  },
  {
   "cell_type": "markdown",
   "metadata": {},
   "source": [
    "此时只需在不带参数的装饰器函数外面再包一层函数用于接收参数即可。实际上等同于`deco(time_it=True)(myfunc)(1, 3)`。·"
   ]
  },
  {
   "cell_type": "markdown",
   "metadata": {},
   "source": [
    "### 装饰类\n",
    "装饰器可以用于类上面，对类的属性或行为进行修改。"
   ]
  },
  {
   "cell_type": "code",
   "execution_count": 23,
   "metadata": {},
   "outputs": [
    {
     "data": {
      "text/plain": [
       "10"
      ]
     },
     "execution_count": 23,
     "metadata": {},
     "output_type": "execute_result"
    }
   ],
   "source": [
    "def deco(cls):\n",
    "    def _deco():\n",
    "        c = cls()\n",
    "        c.a = 10\n",
    "        return c\n",
    "    return _deco\n",
    "\n",
    "@deco\n",
    "class C:\n",
    "    pass\n",
    "\n",
    "c = C()\n",
    "c.a"
   ]
  },
  {
   "cell_type": "markdown",
   "metadata": {},
   "source": [
    "实际和装饰函数没有什么两样。\n",
    "如果类构造器有参数，则："
   ]
  },
  {
   "cell_type": "code",
   "execution_count": 25,
   "metadata": {},
   "outputs": [
    {
     "name": "stdout",
     "output_type": "stream",
     "text": [
      "10\n",
      "100\n"
     ]
    }
   ],
   "source": [
    "def deco(cls):\n",
    "    def _deco(*args, **kwargs):\n",
    "        c = cls(*args, **kwargs)\n",
    "        c.a = 10\n",
    "        return c\n",
    "    return _deco\n",
    "\n",
    "@deco\n",
    "class C:\n",
    "    def __init__(self, value):\n",
    "        self.value = value\n",
    "\n",
    "c = C(100)\n",
    "print(c.a)\n",
    "print(c.value)"
   ]
  },
  {
   "cell_type": "markdown",
   "metadata": {},
   "source": [
    "装饰器带参数："
   ]
  },
  {
   "cell_type": "code",
   "execution_count": 28,
   "metadata": {},
   "outputs": [],
   "source": [
    "def deco(printValue=True):\n",
    "    def _deco(cls):\n",
    "        def __deco(*args, **kwargs):\n",
    "            c = cls(*args, **kwargs)\n",
    "            c.a = 10\n",
    "            if printValue:\n",
    "                print('Value:', c.value)\n",
    "            return c\n",
    "        return __deco\n",
    "    return _deco\n",
    "\n",
    "@deco\n",
    "class C:\n",
    "    def __init__(self, value):\n",
    "        self.value = value\n",
    "\n",
    "c = C(100)"
   ]
  },
  {
   "cell_type": "code",
   "execution_count": null,
   "metadata": {
    "collapsed": true
   },
   "outputs": [],
   "source": []
  }
 ],
 "metadata": {
  "kernelspec": {
   "display_name": "Python 3",
   "language": "python",
   "name": "python3"
  },
  "language_info": {
   "codemirror_mode": {
    "name": "ipython",
    "version": 3
   },
   "file_extension": ".py",
   "mimetype": "text/x-python",
   "name": "python",
   "nbconvert_exporter": "python",
   "pygments_lexer": "ipython3",
   "version": "3.6.3"
  }
 },
 "nbformat": 4,
 "nbformat_minor": 2
}
