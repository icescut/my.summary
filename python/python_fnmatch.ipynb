{
 "cells": [
  {
   "cell_type": "markdown",
   "metadata": {},
   "source": [
    "# fnmatch"
   ]
  },
  {
   "cell_type": "markdown",
   "metadata": {},
   "source": [
    "fnmatch支持unit shell风格的通配符使用，与正则表达式并不一样。与glob模块类似，但glob是对系统中的文件通过匹配的，则fnmatch则是对字符串操作。"
   ]
  },
  {
   "cell_type": "markdown",
   "metadata": {},
   "source": [
    "* `*`，匹配0到多个字符\n",
    "* `?`，匹配一个字符\n",
    "* `[seq]`，匹配在中括号中的字符\n",
    "* `[!seq]`，匹配不在中括号中的字符\n",
    "\n",
    "注意：\n",
    "1. `[?]`匹配`?`，表示在中括号中的字符是其原本的含义。\n",
    "2. 路径分隔符`/`并没有特殊含义，但在glob模块中有特殊含义。\n"
   ]
  },
  {
   "cell_type": "markdown",
   "metadata": {},
   "source": [
    "## fnmatch\n",
    "fnmatch函数的语法为`fnmatch(str, pattern)`，当字符串符合模式则返回True。大小写无关。\n",
    "\n",
    "如果想要大小写相关，则使用fnmatchcase函数。"
   ]
  },
  {
   "cell_type": "code",
   "execution_count": 2,
   "metadata": {},
   "outputs": [
    {
     "name": "stdout",
     "output_type": "stream",
     "text": [
      "memory_profiler_test.py\n",
      "slots_test.py\n",
      "slots_test2.py\n"
     ]
    }
   ],
   "source": [
    "import fnmatch\n",
    "import os\n",
    "\n",
    "for file in os.listdir('.'):\n",
    "    if fnmatch.fnmatch(file, '*.py'):\n",
    "        print(file)"
   ]
  },
  {
   "cell_type": "markdown",
   "metadata": {},
   "source": [
    "## translate\n",
    "使用translate函数将模式转换为正则表达式字符串。"
   ]
  },
  {
   "cell_type": "code",
   "execution_count": 3,
   "metadata": {},
   "outputs": [
    {
     "name": "stdout",
     "output_type": "stream",
     "text": [
      "(?s:.*\\.txt)\\Z\n"
     ]
    },
    {
     "data": {
      "text/plain": [
       "<_sre.SRE_Match object; span=(0, 10), match='foobar.txt'>"
      ]
     },
     "execution_count": 3,
     "metadata": {},
     "output_type": "execute_result"
    }
   ],
   "source": [
    "import re\n",
    "\n",
    "regex = fnmatch.translate('*.txt')\n",
    "print(regex)\n",
    "reobj = re.compile(regex)\n",
    "reobj.match('foobar.txt')"
   ]
  },
  {
   "cell_type": "code",
   "execution_count": null,
   "metadata": {
    "collapsed": true
   },
   "outputs": [],
   "source": []
  }
 ],
 "metadata": {
  "kernelspec": {
   "display_name": "Python 3",
   "language": "python",
   "name": "python3"
  },
  "language_info": {
   "codemirror_mode": {
    "name": "ipython",
    "version": 3
   },
   "file_extension": ".py",
   "mimetype": "text/x-python",
   "name": "python",
   "nbconvert_exporter": "python",
   "pygments_lexer": "ipython3",
   "version": "3.6.3"
  }
 },
 "nbformat": 4,
 "nbformat_minor": 2
}
