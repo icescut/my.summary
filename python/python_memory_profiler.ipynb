{
 "cells": [
  {
   "cell_type": "markdown",
   "metadata": {},
   "source": [
    "# Memory Profiler"
   ]
  },
  {
   "cell_type": "markdown",
   "metadata": {},
   "source": [
    "Python代码的内存分析器。使用`@profile`装饰器装饰需要分析的函数。"
   ]
  },
  {
   "cell_type": "markdown",
   "metadata": {},
   "source": [
    "在memory_profiler_test.py中定义如下代码：\n",
    "```python\n",
    "from memory_profiler import profile\n",
    "\n",
    "@profile\n",
    "def my_func():\n",
    "    a = [1] * (10 ** 6)\n",
    "    b = [2] * (2 * 10 ** 7)\n",
    "    del b\n",
    "    return a\n",
    "\n",
    "if __name__ == '__main__':\n",
    "    my_func()\n",
    "```"
   ]
  },
  {
   "cell_type": "markdown",
   "metadata": {},
   "source": [
    "通过`python -m memory_profiler example.py`执行，则会对被装饰的函数进行分析。输出结果类似如下：\n",
    "```\n",
    "Line #    Mem usage  Increment   Line Contents\n",
    "==============================================\n",
    "     3                           @profile\n",
    "     4      5.97 MB    0.00 MB   def my_func():\n",
    "     5     13.61 MB    7.64 MB       a = [1] * (10 ** 6)\n",
    "     6    166.20 MB  152.59 MB       b = [2] * (2 * 10 ** 7)\n",
    "     7     13.61 MB -152.59 MB       del b\n",
    "     8     13.61 MB    0.00 MB       return a\n",
    "```\n",
    "在jupyter notebook中可以像如下一样使用，但必须是从外部文件中导入。\n",
    "\n",
    "* load Memory Profiler"
   ]
  },
  {
   "cell_type": "code",
   "execution_count": 2,
   "metadata": {
    "collapsed": true
   },
   "outputs": [],
   "source": [
    "%load_ext memory_profiler"
   ]
  },
  {
   "cell_type": "markdown",
   "metadata": {},
   "source": [
    "* 导入需要分析的代码，执行`%mprun -f 函数 函数()`"
   ]
  },
  {
   "cell_type": "code",
   "execution_count": 4,
   "metadata": {},
   "outputs": [
    {
     "name": "stdout",
     "output_type": "stream",
     "text": [
      "Filename: F:\\ABao\\work\\github\\my.summary\\python\\memory_profiler_test.py\n",
      "\n",
      "Line #    Mem usage    Increment   Line Contents\n",
      "================================================\n",
      "     4     68.9 MiB     68.9 MiB   @profile\n",
      "     5                             def my_func():\n",
      "     6     76.5 MiB      7.6 MiB       a = [1] * (10 ** 6)\n",
      "     7    229.1 MiB    152.6 MiB       b = [2] * (2 * 10 ** 7)\n",
      "     8     76.5 MiB   -152.6 MiB       del b\n",
      "     9     76.5 MiB      0.0 MiB       return a\n",
      "\n",
      "\n",
      "\n"
     ]
    }
   ],
   "source": [
    "from memory_profiler_test import my_func\n",
    "%mprun -f my_func my_func()"
   ]
  },
  {
   "cell_type": "code",
   "execution_count": null,
   "metadata": {
    "collapsed": true
   },
   "outputs": [],
   "source": []
  }
 ],
 "metadata": {
  "kernelspec": {
   "display_name": "Python 3",
   "language": "python",
   "name": "python3"
  },
  "language_info": {
   "codemirror_mode": {
    "name": "ipython",
    "version": 3
   },
   "file_extension": ".py",
   "mimetype": "text/x-python",
   "name": "python",
   "nbconvert_exporter": "python",
   "pygments_lexer": "ipython3",
   "version": "3.6.3"
  }
 },
 "nbformat": 4,
 "nbformat_minor": 2
}
