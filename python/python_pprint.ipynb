{
 "cells": [
  {
   "cell_type": "markdown",
   "metadata": {},
   "source": [
    "# pprint"
   ]
  },
  {
   "cell_type": "markdown",
   "metadata": {},
   "source": [
    "pprint模块能够比print打印得更加好看。实际上print只是在一行中打印。  "
   ]
  },
  {
   "cell_type": "markdown",
   "metadata": {},
   "source": [
    "## PrettyPrinter类\n",
    "PrettyPrinter是一个类，创建类时设定打印的喜好设置，然后使用`pprint`方法进行打印。"
   ]
  },
  {
   "cell_type": "code",
   "execution_count": 1,
   "metadata": {},
   "outputs": [
    {
     "name": "stdout",
     "output_type": "stream",
     "text": [
      "[       ['spam', 'eggs', 'lumberjack', 'knights', 'ni'],\n",
      "        'spam',\n",
      "        'eggs',\n",
      "        'lumberjack',\n",
      "        'knights',\n",
      "        'ni']\n"
     ]
    }
   ],
   "source": [
    "import pprint\n",
    "stuff = ['spam', 'eggs', 'lumberjack', 'knights', 'ni']\n",
    "stuff.insert(0, stuff[:])\n",
    "pp = pprint.PrettyPrinter(indent=8)\n",
    "pp.pprint(stuff)"
   ]
  },
  {
   "cell_type": "code",
   "execution_count": 3,
   "metadata": {},
   "outputs": [
    {
     "name": "stdout",
     "output_type": "stream",
     "text": [
      "[['spam', 'eggs', 'lumberjack', 'knights', 'ni'],\n",
      " 'spam', 'eggs', 'lumberjack', 'knights', 'ni']\n"
     ]
    }
   ],
   "source": [
    "pp = pprint.PrettyPrinter(width=50, compact=True)\n",
    "pp.pprint(stuff)"
   ]
  },
  {
   "cell_type": "code",
   "execution_count": 4,
   "metadata": {},
   "outputs": [
    {
     "name": "stdout",
     "output_type": "stream",
     "text": [
      "('spam', ('eggs', ('lumberjack', ('knights', (...)))))\n"
     ]
    }
   ],
   "source": [
    "tup = ('spam', ('eggs', ('lumberjack', ('knights', ('ni', ('dead',('parrot', ('fresh fruit',))))))))\n",
    "pp = pprint.PrettyPrinter(depth=4)\n",
    "pp.pprint(tup)"
   ]
  },
  {
   "cell_type": "markdown",
   "metadata": {},
   "source": [
    "* indent 缩进位数\n",
    "* width 一行最大长度\n",
    "* depth 最大层数，超出则用`...`表示\n",
    "* compact 压缩，默认是不压缩，即遇到逗号会断行"
   ]
  },
  {
   "cell_type": "markdown",
   "metadata": {},
   "source": [
    "## pprint与pformat函数\n",
    "语法：`pprint(object, stream=None, indent=1, width=80, depth=None, *, compact=False)`\n",
    "\n",
    "实际上省去上创建PrettyPrinter的麻烦，但不可重用设定的格式。  \n",
    "\n",
    "pformat的使用方式与pprint一样，只是pformat是返回一个字符串而不是打印出来。"
   ]
  },
  {
   "cell_type": "code",
   "execution_count": null,
   "metadata": {
    "collapsed": true
   },
   "outputs": [],
   "source": []
  }
 ],
 "metadata": {
  "kernelspec": {
   "display_name": "Python 3",
   "language": "python",
   "name": "python3"
  },
  "language_info": {
   "codemirror_mode": {
    "name": "ipython",
    "version": 3
   },
   "file_extension": ".py",
   "mimetype": "text/x-python",
   "name": "python",
   "nbconvert_exporter": "python",
   "pygments_lexer": "ipython3",
   "version": "3.6.3"
  }
 },
 "nbformat": 4,
 "nbformat_minor": 2
}
